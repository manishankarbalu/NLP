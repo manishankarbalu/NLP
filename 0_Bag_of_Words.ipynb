{
 "cells": [
  {
   "cell_type": "code",
   "execution_count": 23,
   "metadata": {
    "collapsed": true
   },
   "outputs": [],
   "source": [
    "import torch\n",
    "import torch.nn as nn\n",
    "from torch.autograd import Variable\n",
    "import torch.optim as optim\n",
    "import torch.nn.functional as F"
   ]
  },
  {
   "cell_type": "code",
   "execution_count": 89,
   "metadata": {},
   "outputs": [],
   "source": [
    "def tokenize_corpus(corpus):\n",
    "    tokens = [x.split() for x in corpus]\n",
    "    return tokens"
   ]
  },
  {
   "cell_type": "code",
   "execution_count": 308,
   "metadata": {},
   "outputs": [],
   "source": [
    "train_data = [\n",
    "    [\"hungry\", \"FOOD\"],\n",
    "    [\"Do not eat anything\", \"FOOD\"],\n",
    "    [\"Recommend restaurant\", \"FOOD\"],\n",
    "    [\"Good food near restaurant\", \"FOOD\"],\n",
    "    [\"food\", \"FOOD\"],\n",
    "    [\"What are you eating?\", \"FOOD\"],\n",
    "    [\"I want to eat rice\", \"FOOD\"],\n",
    "    [\"I want to watch movies\", \"MEDIA\"],\n",
    "    [\"Have you seen anything lately?\", \"MEDIA\"],\n",
    "    [\"Movie or entertainment recommendation\", \"MEDIA\"],\n",
    "    [\"Show me some funny drama\", \"MEDIA\"],\n",
    "    [\"Give me a plot with love\", \"MEDIA\"],\n",
    "    [\"Back to the horror comedy\", \"MEDIA\"],\n",
    "    [\"Show only funny video highlights\", \"MEDIA\"]\n",
    "]\n",
    "test_data = [\n",
    "    [\"Find a restaurant\", \"FOOD\"],\n",
    "    [\"I want to eat spicy rice cake\", \"FOOD\"],\n",
    "    [\"I want cake\", \"FOOD\"],\n",
    "    [\"Kamal's nayagan movie\", \"MEDIA\"]\n",
    "]"
   ]
  },
  {
   "cell_type": "code",
   "execution_count": 267,
   "metadata": {},
   "outputs": [],
   "source": [
    "#train_data=import_data()\n",
    "#from random import shuffle\n",
    "#shuffle(train_data)\n",
    "train_X,train_Y = list(zip(*train_data))"
   ]
  },
  {
   "cell_type": "code",
   "execution_count": 268,
   "metadata": {
    "scrolled": false
   },
   "outputs": [
    {
     "name": "stdout",
     "output_type": "stream",
     "text": [
      "14\n",
      "14\n"
     ]
    }
   ],
   "source": [
    "train_X = tokenize_corpus(train_X)\n",
    "#print train_X\n",
    "print len(train_X)\n",
    "#print train_Y\n",
    "print len(train_Y)"
   ]
  },
  {
   "cell_type": "code",
   "execution_count": 269,
   "metadata": {},
   "outputs": [
    {
     "name": "stdout",
     "output_type": "stream",
     "text": [
      "45\n"
     ]
    }
   ],
   "source": [
    "word2index={'<unk>' : 0}\n",
    "for x in train_X:\n",
    "    for token in x:\n",
    "        if word2index.get(token)==None:\n",
    "            word2index[token]=len(word2index)\n",
    "            \n",
    "class2index = {'FOOD' : 0, 'MEDIA' : 1}\n",
    "#class2index = {'NEG' : 0, 'POS' : 1}\n",
    "#print(word2index)\n",
    "#print(class2index)\n",
    "print len(word2index)"
   ]
  },
  {
   "cell_type": "code",
   "execution_count": 270,
   "metadata": {},
   "outputs": [],
   "source": [
    "def make_BoW(seq,word2index):\n",
    "    tensor = torch.zeros(len(word2index))\n",
    "    for w in seq:\n",
    "        index = word2index.get(w)\n",
    "        if index!=None:\n",
    "            tensor[index]+=1.\n",
    "        else:\n",
    "            index = word2index['<unk>']\n",
    "            tensor[index]+=1.\n",
    "    \n",
    "    return tensor"
   ]
  },
  {
   "cell_type": "code",
   "execution_count": 271,
   "metadata": {},
   "outputs": [
    {
     "data": {
      "text/plain": [
       "\n",
       "\n",
       "Columns 0 to 12 \n",
       "    0     0     1     1     1     1     0     0     0     0     0     0     0\n",
       "\n",
       "Columns 13 to 25 \n",
       "    0     0     0     0     0     0     0     0     0     0     0     0     0\n",
       "\n",
       "Columns 26 to 38 \n",
       "    0     0     0     0     0     0     0     0     0     0     0     0     0\n",
       "\n",
       "Columns 39 to 44 \n",
       "    0     0     0     0     0     0\n",
       "[torch.FloatTensor of size 1x45]"
      ]
     },
     "execution_count": 271,
     "metadata": {},
     "output_type": "execute_result"
    }
   ],
   "source": [
    "make_BoW(['Do', 'not', 'eat', 'anything'],word2index).view(1,-1)"
   ]
  },
  {
   "cell_type": "code",
   "execution_count": 272,
   "metadata": {},
   "outputs": [],
   "source": [
    "train_X = torch.cat([Variable(make_BoW(x,word2index)).view(1,-1) for x in train_X])\n",
    "train_y = torch.cat([Variable(torch.LongTensor([class2index[y]])) for y in train_Y])"
   ]
  },
  {
   "cell_type": "code",
   "execution_count": 273,
   "metadata": {},
   "outputs": [
    {
     "data": {
      "text/plain": [
       "torch.Size([14, 45])"
      ]
     },
     "execution_count": 273,
     "metadata": {},
     "output_type": "execute_result"
    }
   ],
   "source": [
    "#print train_Y\n",
    "train_X.size()"
   ]
  },
  {
   "cell_type": "code",
   "execution_count": 274,
   "metadata": {
    "collapsed": true
   },
   "outputs": [],
   "source": [
    "class BoWClassifier(nn.Module):\n",
    "    def __init__(self,vocab_size,output_size):\n",
    "        super(BoWClassifier,self).__init__()\n",
    "        \n",
    "        self.linear = nn.Linear(vocab_size,output_size)\n",
    "    \n",
    "    def forward(self,inputs):\n",
    "        return self.linear(inputs)"
   ]
  },
  {
   "cell_type": "code",
   "execution_count": 293,
   "metadata": {},
   "outputs": [],
   "source": [
    "epochs = 100\n",
    "LR = 0.2\n",
    "model = BoWClassifier(len(word2index),2)\n",
    "loss_function = nn.CrossEntropyLoss()\n",
    "optimizer = optim.SGD(model.parameters(),lr=LR)"
   ]
  },
  {
   "cell_type": "code",
   "execution_count": 294,
   "metadata": {},
   "outputs": [
    {
     "name": "stdout",
     "output_type": "stream",
     "text": [
      "epoch 0 loss 0.695884764194 \n",
      "epoch 10 loss 0.476599872112 \n",
      "epoch 20 loss 0.357526838779 \n",
      "epoch 30 loss 0.284007668495 \n",
      "epoch 40 loss 0.234425649047 \n",
      "epoch 50 loss 0.198890700936 \n",
      "epoch 60 loss 0.172271937132 \n",
      "epoch 70 loss 0.151648715138 \n",
      "epoch 80 loss 0.135239556432 \n",
      "epoch 90 loss 0.121898189187 \n"
     ]
    }
   ],
   "source": [
    "for epoch in range(epochs):\n",
    "    model.zero_grad()\n",
    "    preds = model(train_X)\n",
    "    loss = loss_function(preds,train_y)\n",
    "    if epoch % 10 == 0:\n",
    "        print 'epoch {} loss {} '.format(epoch,loss.data[0])\n",
    "    loss.backward()\n",
    "    optimizer.step()"
   ]
  },
  {
   "cell_type": "code",
   "execution_count": 291,
   "metadata": {},
   "outputs": [
    {
     "name": "stdout",
     "output_type": "stream",
     "text": [
      "{0: 'FOOD', 1: 'MEDIA'}\n"
     ]
    }
   ],
   "source": [
    "index2class = {v:k for k,v in class2index.items()}\n",
    "print index2class"
   ]
  },
  {
   "cell_type": "code",
   "execution_count": 309,
   "metadata": {},
   "outputs": [
    {
     "name": "stdout",
     "output_type": "stream",
     "text": [
      "Input : Find a restaurant\n",
      "Prediction : FOOD\n",
      "Truth : FOOD\n",
      "\n",
      "\n",
      "Input : I want to eat spicy rice cake\n",
      "Prediction : FOOD\n",
      "Truth : FOOD\n",
      "\n",
      "\n",
      "Input : I want cake\n",
      "Prediction : FOOD\n",
      "Truth : FOOD\n",
      "\n",
      "\n",
      "Input : Kamal's nayagan movie\n",
      "Prediction : MEDIA\n",
      "Truth : MEDIA\n",
      "\n",
      "\n"
     ]
    }
   ],
   "source": [
    "for test in test_data:\n",
    "    X = (test[0])\n",
    "    X = Variable(make_BoW(X,word2index)).view(1,-1)\n",
    "    pred = model(X)\n",
    "    pred = pred.max(1)[1].data[0]\n",
    "    print(\"Input : %s\" % test[0])\n",
    "    print(\"Prediction : %s\" % index2class[pred])\n",
    "    print(\"Truth : %s\" % test[1])\n",
    "    print(\"\\n\")"
   ]
  },
  {
   "cell_type": "code",
   "execution_count": 174,
   "metadata": {},
   "outputs": [],
   "source": [
    "\"\"\"def import_data(path = None):\n",
    "    filenames=['data/positive.txt','data/negative.txt']\n",
    "    data=[]\n",
    "    for files in filenames:\n",
    "        t=open(files)\n",
    "        if files=='data/positive.txt':\n",
    "               tag=\"POS\"\n",
    "        else:\n",
    "               tag=\"NEG\"\n",
    "        s=[[i[:-1]] for i in t]\n",
    "        for i in s:\n",
    "            #print i\n",
    "            data+=[i+[tag]]\n",
    "        #print data\n",
    "    return data\"\"\""
   ]
  }
 ],
 "metadata": {
  "kernelspec": {
   "display_name": "Python 2",
   "language": "python",
   "name": "python2"
  },
  "language_info": {
   "codemirror_mode": {
    "name": "ipython",
    "version": 2
   },
   "file_extension": ".py",
   "mimetype": "text/x-python",
   "name": "python",
   "nbconvert_exporter": "python",
   "pygments_lexer": "ipython2",
   "version": "2.7.6"
  }
 },
 "nbformat": 4,
 "nbformat_minor": 2
}
