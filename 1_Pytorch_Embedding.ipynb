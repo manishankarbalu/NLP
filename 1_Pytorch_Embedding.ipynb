{
 "cells": [
  {
   "cell_type": "code",
   "execution_count": 1,
   "metadata": {
    "collapsed": true
   },
   "outputs": [],
   "source": [
    "import torch\n",
    "import torch.nn as nn\n",
    "from torch.autograd import Variable\n",
    "import torch.optim as optim\n",
    "import torch.nn.functional as F"
   ]
  },
  {
   "cell_type": "code",
   "execution_count": 2,
   "metadata": {
    "collapsed": true
   },
   "outputs": [],
   "source": [
    "t1 = torch.Tensor([0.6,-0.2,0.7,0.3,0.7,-0.2,0.1,0.1])\n",
    "t2 = torch.Tensor([0.4,-0.1,0.6,-0.2,0.6,-0.2,0.3,0.4])\n",
    "t3 = torch.Tensor([-0.3,0.2,0.1,0.2,-0.2,0.1,-0.3,0.1])"
   ]
  },
  {
   "cell_type": "code",
   "execution_count": 3,
   "metadata": {},
   "outputs": [
    {
     "data": {
      "text/plain": [
       "\n",
       " 0.8417\n",
       "[torch.FloatTensor of size 1]"
      ]
     },
     "execution_count": 3,
     "metadata": {},
     "output_type": "execute_result"
    }
   ],
   "source": [
    "F.cosine_similarity(t1.view(1,-1),t2.view(1,-1))"
   ]
  },
  {
   "cell_type": "code",
   "execution_count": 37,
   "metadata": {},
   "outputs": [
    {
     "data": {
      "text/plain": [
       "1.1500000953674316"
      ]
     },
     "execution_count": 37,
     "metadata": {},
     "output_type": "execute_result"
    }
   ],
   "source": [
    "t1.dot(t2) #similarity"
   ]
  },
  {
   "cell_type": "code",
   "execution_count": 4,
   "metadata": {},
   "outputs": [
    {
     "data": {
      "text/plain": [
       "\n",
       "-0.3800\n",
       "[torch.FloatTensor of size 1]"
      ]
     },
     "execution_count": 4,
     "metadata": {},
     "output_type": "execute_result"
    }
   ],
   "source": [
    "F.cosine_similarity(t1.view(1,-1),t3.view(1,-1))"
   ]
  },
  {
   "cell_type": "code",
   "execution_count": 7,
   "metadata": {},
   "outputs": [
    {
     "data": {
      "text/plain": [
       "Parameter containing:\n",
       " 0.0844 -0.3443  1.2047  0.1688  1.1684\n",
       "-0.5280 -0.5591  0.4917 -0.1280 -1.2600\n",
       "-0.8847 -0.6824 -0.8537 -0.4861  0.3129\n",
       "-1.5117 -0.3472 -0.7274 -2.4381 -2.4289\n",
       "-1.2348 -0.9207  1.0905 -0.0583 -1.4909\n",
       " 1.1764 -1.3022  0.0683 -0.6197 -1.6319\n",
       "-1.6775  0.6214  0.0301  0.6385  0.7343\n",
       "[torch.FloatTensor of size 7x5]"
      ]
     },
     "execution_count": 7,
     "metadata": {},
     "output_type": "execute_result"
    }
   ],
   "source": [
    "embed = nn.Embedding(7,5)\n",
    "embed.weight"
   ]
  },
  {
   "cell_type": "code",
   "execution_count": 9,
   "metadata": {},
   "outputs": [
    {
     "name": "stdout",
     "output_type": "stream",
     "text": [
      "\n",
      " 2\n",
      " 2\n",
      "[torch.LongTensor of size 2]\n",
      "\n"
     ]
    },
    {
     "data": {
      "text/plain": [
       "Variable containing:\n",
       "-0.8847 -0.6824 -0.8537 -0.4861  0.3129\n",
       "-0.8847 -0.6824 -0.8537 -0.4861  0.3129\n",
       "[torch.FloatTensor of size 2x5]"
      ]
     },
     "execution_count": 9,
     "metadata": {},
     "output_type": "execute_result"
    }
   ],
   "source": [
    "man = torch.LongTensor([2,2])\n",
    "print man\n",
    "embed(Variable(man))"
   ]
  },
  {
   "cell_type": "code",
   "execution_count": 10,
   "metadata": {},
   "outputs": [
    {
     "data": {
      "text/plain": [
       "Variable containing:\n",
       "-0.5280 -0.5591  0.4917 -0.1280 -1.2600\n",
       "-1.5117 -0.3472 -0.7274 -2.4381 -2.4289\n",
       " 1.1764 -1.3022  0.0683 -0.6197 -1.6319\n",
       "[torch.FloatTensor of size 3x5]"
      ]
     },
     "execution_count": 10,
     "metadata": {},
     "output_type": "execute_result"
    }
   ],
   "source": [
    "sentence = torch.LongTensor([1,3,5])\n",
    "embed(Variable(sentence))"
   ]
  },
  {
   "cell_type": "code",
   "execution_count": 14,
   "metadata": {},
   "outputs": [
    {
     "name": "stdout",
     "output_type": "stream",
     "text": [
      "Parameter containing:\n",
      " 0.8967  1.3745 -0.9737  0.0468 -0.3903\n",
      " 0.0785  1.7992  0.1153 -0.1519 -0.2710\n",
      " 2.2469 -0.9655  0.5052  1.7447  0.4223\n",
      "-0.8822 -0.2546 -2.0278  0.2913  0.5114\n",
      "-0.1798  0.3421  1.4078 -2.9766  1.4750\n",
      "-0.6460  1.0463 -0.6978 -1.9395  1.2736\n",
      " 0.1944 -0.9633 -0.5783  0.4063  1.0020\n",
      "[torch.FloatTensor of size 7x5]\n",
      "\n",
      "Variable containing:\n",
      " 1  3  5\n",
      "[torch.LongTensor of size 1x3]\n",
      "\n",
      "Variable containing:\n",
      "-0.4833  0.8637 -0.8701 -0.6000  0.5047\n",
      "[torch.FloatTensor of size 1x5]\n",
      "\n"
     ]
    }
   ],
   "source": [
    "#Sentence embedding\n",
    "embedding_sum = nn.EmbeddingBag(7, 5, mode='mean')\n",
    "print embedding_sum.weight\n",
    "sentence = Variable(torch.LongTensor([[1,3,5]]))\n",
    "print sentence\n",
    "print embedding_sum(sentence)"
   ]
  },
  {
   "cell_type": "code",
   "execution_count": 16,
   "metadata": {
    "collapsed": true
   },
   "outputs": [],
   "source": [
    "def tokenize_corpus(corpus):\n",
    "    tokens = [x.split() for x in corpus]\n",
    "    return tokens"
   ]
  },
  {
   "cell_type": "code",
   "execution_count": 27,
   "metadata": {
    "collapsed": true
   },
   "outputs": [],
   "source": [
    "corpus=[\"Microsoft Corp. on Monday announced it has reached an agreement to acquire GitHub\",\n",
    "        \"GitHub is the world’s leading software development platform which is used by more than 28 million developers\",\n",
    "        \"Together, the two companies will empower developers to achieve more at every stage of the development lifecycle\",\n",
    "        \"Under the terms of the agreement, Microsoft will acquire GitHub for $7.5 billion in Microsoft stock\",\n",
    "        \"GitHub will retain its developer-first ethos and will operate independently to provide an open platform for all developers in all industries\"\n",
    "       ]"
   ]
  },
  {
   "cell_type": "code",
   "execution_count": 28,
   "metadata": {},
   "outputs": [
    {
     "name": "stdout",
     "output_type": "stream",
     "text": [
      "[['Microsoft', 'Corp.', 'on', 'Monday', 'announced', 'it', 'has', 'reached', 'an', 'agreement', 'to', 'acquire', 'GitHub'], ['GitHub', 'is', 'the', 'world\\xe2\\x80\\x99s', 'leading', 'software', 'development', 'platform', 'which', 'is', 'used', 'by', 'more', 'than', '28', 'million', 'developers'], ['Together,', 'the', 'two', 'companies', 'will', 'empower', 'developers', 'to', 'achieve', 'more', 'at', 'every', 'stage', 'of', 'the', 'development', 'lifecycle'], ['Under', 'the', 'terms', 'of', 'the', 'agreement,', 'Microsoft', 'will', 'acquire', 'GitHub', 'for', '$7.5', 'billion', 'in', 'Microsoft', 'stock'], ['GitHub', 'will', 'retain', 'its', 'developer-first', 'ethos', 'and', 'will', 'operate', 'independently', 'to', 'provide', 'an', 'open', 'platform', 'for', 'all', 'developers', 'in', 'all', 'industries']]\n"
     ]
    }
   ],
   "source": [
    "tokenized=tokenize_corpus(corpus)\n",
    "print tokenized"
   ]
  },
  {
   "cell_type": "code",
   "execution_count": 29,
   "metadata": {},
   "outputs": [
    {
     "name": "stdout",
     "output_type": "stream",
     "text": [
      "{'and': 51, 'all': 56, 'world\\xe2\\x80\\x99s': 15, 'is': 13, 'in': 45, '$7.5': 43, 'it': 5, 'an': 8, 'at': 34, 'Under': 39, 'reached': 7, 'open': 55, 'its': 48, 'million': 26, 'GitHub': 12, 'operate': 52, 'Monday': 3, 'platform': 19, 'provide': 54, 'leading': 16, '28': 25, 'developers': 27, 'by': 22, 'to': 10, 'which': 20, 'ethos': 50, 'has': 6, 'developer-first': 49, 'announced': 4, 'more': 23, 'development': 18, 'industries': 57, 'used': 21, 'terms': 40, 'than': 24, 'lifecycle': 38, 'empower': 32, 'acquire': 11, 'agreement': 9, 'every': 35, 'two': 29, 'Microsoft': 0, 'stage': 36, 'billion': 44, 'on': 2, 'independently': 53, 'Corp.': 1, 'for': 42, 'of': 37, 'agreement,': 41, 'companies': 30, 'will': 31, 'achieve': 33, 'Together,': 28, 'retain': 47, 'the': 14, 'stock': 46, 'software': 17}\n"
     ]
    },
    {
     "data": {
      "text/plain": [
       "58"
      ]
     },
     "execution_count": 29,
     "metadata": {},
     "output_type": "execute_result"
    }
   ],
   "source": [
    "word2index={}\n",
    "for sent in tokenized:\n",
    "    for word in sent:\n",
    "        if word2index.get(word)==None:\n",
    "            word2index[word]=len(word2index)\n",
    "print word2index\n",
    "len(word2index)"
   ]
  },
  {
   "cell_type": "code",
   "execution_count": 30,
   "metadata": {},
   "outputs": [
    {
     "name": "stdout",
     "output_type": "stream",
     "text": [
      "torch.Size([58, 10])\n"
     ]
    }
   ],
   "source": [
    "matrix = nn.Embedding(len(word2index),10)\n",
    "print matrix.weight.size()"
   ]
  },
  {
   "cell_type": "code",
   "execution_count": 31,
   "metadata": {},
   "outputs": [
    {
     "data": {
      "text/plain": [
       "12"
      ]
     },
     "execution_count": 31,
     "metadata": {},
     "output_type": "execute_result"
    }
   ],
   "source": [
    "word2index['GitHub']"
   ]
  },
  {
   "cell_type": "code",
   "execution_count": 33,
   "metadata": {},
   "outputs": [
    {
     "name": "stdout",
     "output_type": "stream",
     "text": [
      "Variable containing:\n",
      " 12\n",
      "[torch.LongTensor of size 1]\n",
      " Variable containing:\n",
      " 0\n",
      "[torch.LongTensor of size 1]\n",
      "\n"
     ]
    }
   ],
   "source": [
    "git_tensor = Variable(torch.LongTensor([word2index['GitHub']]))\n",
    "ms_tensor = Variable(torch.LongTensor([word2index['Microsoft']]))\n",
    "print git_tensor,ms_tensor"
   ]
  },
  {
   "cell_type": "code",
   "execution_count": 36,
   "metadata": {},
   "outputs": [
    {
     "name": "stdout",
     "output_type": "stream",
     "text": [
      "torch.Size([1, 10])\n"
     ]
    }
   ],
   "source": [
    "git_vector = matrix(git_tensor)\n",
    "ms_vectore = matrix(ms_tensor)\n",
    "print git_vector.size()"
   ]
  },
  {
   "cell_type": "markdown",
   "metadata": {},
   "source": [
    "### Using PRe-trained embeddings"
   ]
  },
  {
   "cell_type": "code",
   "execution_count": null,
   "metadata": {
    "collapsed": true
   },
   "outputs": [],
   "source": []
  }
 ],
 "metadata": {
  "kernelspec": {
   "display_name": "Python 2",
   "language": "python",
   "name": "python2"
  },
  "language_info": {
   "codemirror_mode": {
    "name": "ipython",
    "version": 2
   },
   "file_extension": ".py",
   "mimetype": "text/x-python",
   "name": "python",
   "nbconvert_exporter": "python",
   "pygments_lexer": "ipython2",
   "version": "2.7.6"
  }
 },
 "nbformat": 4,
 "nbformat_minor": 2
}
